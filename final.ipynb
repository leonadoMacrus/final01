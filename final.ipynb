{
 "cells": [
  {
   "cell_type": "markdown",
   "metadata": {},
   "source": [
    "https://www.kaggle.com/datasets/mcdonalds/nutrition-facts/data (bộ đẹp nhưng chỉ 260 data)\n",
    "https://www.kaggle.com/datasets/joebeachcapital/fast-food (có vẻ bộ thô của bên trên. 1188 data)\n",
    "https://www.kaggle.com/datasets/utkarshx27/starbucks-nutrition (này cút 77 data)\n",
    "https://www.kaggle.com/datasets/ulrikthygepedersen/fastfood-nutrition ( 512 data, tuy tinh hưng vẫn ko ổn)\n",
    "  *https://www.kaggle.com/datasets/mexwell/food-vitamins-minerals-macronutrient (7000data cũng ổn, mô tả dữ liệu khá dài nên chưa đánh giá đc, việc tiền sử lý dữ liệu quá lâu)\n",
    "https://www.kaggle.com/datasets/thedevastator/the-nutritional-content-of-food-a-comprehensive (khá ổn đó, 8000 data, đơn vị các biến đều là gam, nhưng 54 biến thì...sử lý cũng khá khó)\n",
    "\n",
    "https://www.kaggle.com/datasets/lakrasmriti/crop-recommendation (2200data, 8 field, chỉ có phân tích đc ở NPK)\n",
    "https://www.kaggle.com/datasets/sivapriyagarladinne/telangana-post-monsoon-ground-water-quality-data?select=ground_water_quality_2020_post.csv (368data, nếu sài cả 3 bộ thì cỡ 1000, vẫn khá khó dùng dữ liệu thôi vậy...)\n",
    "https://www.kaggle.com/datasets/varshitanalluri/crop-price-prediction-dataset (như bộ NPK ấy, cũng ko có nhìu thứ để sài)\n",
    "\n",
    "        https://www.kaggle.com/datasets/ruthgn/wine-quality-data-set-red-white-wine (6500data, dữ liệu tinh biến quan sát đều là khối lượng/thể tích, cũng khá hợp để hồi quy)\n",
    "\n",
    "  https://www.kaggle.com/datasets/cristianminas/geochemical-variations-in-igneous-rocks-mining/data (mọi thứ đều khá ổn chỉ là nhìn cũng đánh giá đc là khá khó linear)\n",
    "\n",
    "  https://www.kaggle.com/datasets/deepaksirohiwal/delhi-air-quality (18k data, các biến đều ổn để Coda nhưng hồi quy thì...)\n",
    "   https://www.kaggle.com/datasets/seshupavan/air-pollution-data-of-india-2020-2023 (23k data, các biến khá ổn như bộ bên trên, có thêm 1 trường api để đánh giá chất lượng nhưng cũng ko có quá nhiều)\n",
    "  *https://www.kaggle.com/datasets/abhisheksjha/time-series-air-quality-data-of-india-2010-2023 (dữ liệu rất nhiều, đồng bộ đơn vị đo các biến, chưa đọc mô tả nên chưa biết)\n",
    "  *https://www.kaggle.com/datasets/rohanrao/air-quality-data-in-india?select=city_day.csv (30k dữ liệu, các biến giống bộ bên trên)\n",
    "\n",
    "https://www.kaggle.com/datasets/jamesvandenberg/renewable-power-generation/data (31 data???)\n",
    "https://www.kaggle.com/code/dianaddx/geospatial-analysis-of-global-power-plants (dell có gì nhưng vẽ đẹp)\n",
    "\n",
    "https://www.kaggle.com/datasets/akhiljethwa/world-energy-statistics (bộ dữ liệu hơi ít, 600 data, các biến khá ổn)\n",
    "\n",
    "https://www.kaggle.com/datasets/jamesvandenberg/renewable-power-generation\n",
    "https://www.kaggle.com/datasets/muonneutrino/us-census-demographic-data/data?select=acs2015_county_data.csv\n",
    "\n",
    "https://www.kaggle.com/datasets/nishanthsalian/socioeconomic-country-profiles\n",
    "\n",
    "//chi tiêu cho du lịch\n",
    "https://www.kaggle.com/datasets/thomaskieffer/canadian-government-travel-disclosures\n",
    "\n",
    "//dữ liệu điện\n",
    "https://www.kaggle.com/datasets/pythonafroz/electricity-production-and-consumption-data\n",
    "\n",
    "/dữ liệu cost of lives\n",
    "https://www.kaggle.com/datasets/asaniczka/us-cost-of-living-dataset-3171-counties"
   ]
  },
  {
   "cell_type": "code",
   "execution_count": 1,
   "metadata": {},
   "outputs": [
    {
     "data": {
      "image/png": "[encoded data removed]",
      "text/plain": [
       "<Figure size 1000x500 with 1 Axes>"
      ]
     },
     "metadata": {},
     "output_type": "display_data"
    }
   ],
   "source": [
    "import numpy as np\n",
    "from scipy.cluster.hierarchy import dendrogram, linkage\n",
    "import matplotlib.pyplot as plt\n",
    "\n",
    "# Tạo dữ liệu mẫu\n",
    "np.random.seed(42)\n",
    "data = np.random.rand(10, 2)\n",
    "\n",
    "# Thực hiện phân cụm Ward\n",
    "Z = linkage(data, method='ward')\n",
    "\n",
    "# Vẽ biểu đồ phân cấp (dendrogram)\n",
    "plt.figure(figsize=(10, 5))\n",
    "dendrogram(Z)\n",
    "plt.show()\n"
   ]
  }
 ],
 "metadata": {
  "kernelspec": {
   "display_name": "Python 3",
   "language": "python",
   "name": "python3"
  },
  "language_info": {
   "codemirror_mode": {
    "name": "ipython",
    "version": 3
   },
   "file_extension": ".py",
   "mimetype": "text/x-python",
   "name": "python",
   "nbconvert_exporter": "python",
   "pygments_lexer": "ipython3",
   "version": "3.10.13"
  }
 },
 "nbformat": 4,
 "nbformat_minor": 2
}
